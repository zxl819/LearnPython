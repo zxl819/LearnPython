{
 "cells": [
  {
   "cell_type": "code",
   "execution_count": 16,
   "id": "abacb118",
   "metadata": {},
   "outputs": [],
   "source": [
    "class Solution:\n",
    "    def generate(self, numRows: int):\n",
    "        '''\n",
    "        思路： 在杨辉三角中，每个数是它左上方和右上方的数的和\n",
    "        方法： 每一行等于上一行前后错位后之和\n",
    "                13310\n",
    "               +01331\n",
    "                14641\n",
    "        '''\n",
    "        ret = []\n",
    "        for i in range(numRows):\n",
    "            row = []\n",
    "            for j in range(0, i+1):\n",
    "                if j == 0 or j == i:\n",
    "                    row.append(1)\n",
    "                else:\n",
    "                    row.append(ret[i-1][j] + ret[i-1][j-1])\n",
    "            ret.append(row)\n",
    "        return ret\n",
    "\n"
   ]
  },
  {
   "cell_type": "code",
   "execution_count": 8,
   "id": "ffd64521",
   "metadata": {},
   "outputs": [
    {
     "name": "stdout",
     "output_type": "stream",
     "text": [
      "0\n",
      "# [1]\n",
      "0\n",
      "# [1]\n",
      "1\n",
      "# [1, 1]\n",
      "0\n",
      "# [1]\n",
      "# [1, 2]\n",
      "2\n",
      "# [1, 2, 1]\n",
      "0\n",
      "# [1]\n",
      "# [1, 3]\n",
      "# [1, 3, 3]\n",
      "3\n",
      "# [1, 3, 3, 1]\n",
      "0\n",
      "# [1]\n",
      "# [1, 4]\n",
      "# [1, 4, 6]\n",
      "# [1, 4, 6, 4]\n",
      "4\n",
      "# [1, 4, 6, 4, 1]\n"
     ]
    }
   ],
   "source": [
    "ret = []\n",
    "for i in range(5):\n",
    "    #print(i)\n",
    "    row =[]\n",
    "    for j in range(0, i+1):\n",
    "        if j == 0 or j == i:\n",
    "            row.append(1)\n",
    "            print(j)\n",
    "            print('#',row)\n",
    "        else:\n",
    "            row.append(ret[i-1][j] + ret[i-1][j-1])\n",
    "            print('#',row)\n",
    "    ret.append(row)"
   ]
  },
  {
   "cell_type": "code",
   "execution_count": 18,
   "id": "a2b4803d",
   "metadata": {},
   "outputs": [
    {
     "data": {
      "text/plain": [
       "[[1], [1, 1], [1, 2, 1], [1, 3, 3, 1], [1, 4, 6, 4, 1]]"
      ]
     },
     "execution_count": 18,
     "metadata": {},
     "output_type": "execute_result"
    }
   ],
   "source": [
    " Solution().generate(5)\n"
   ]
  },
  {
   "cell_type": "code",
   "execution_count": 19,
   "id": "28848ec3",
   "metadata": {},
   "outputs": [],
   "source": [
    "s = \"Let's take LeetCode contest\""
   ]
  },
  {
   "cell_type": "code",
   "execution_count": 21,
   "id": "beb1d8c2",
   "metadata": {},
   "outputs": [
    {
     "name": "stdout",
     "output_type": "stream",
     "text": [
      "[\"Let's\", 'take', 'LeetCode', 'contest']\n"
     ]
    }
   ],
   "source": [
    "words = s.split()\n",
    "print(words)"
   ]
  },
  {
   "cell_type": "code",
   "execution_count": 56,
   "id": "10c20820",
   "metadata": {},
   "outputs": [
    {
     "name": "stdout",
     "output_type": "stream",
     "text": [
      "s\n",
      "Let's\n",
      "take\n",
      "LeetCode\n",
      "contest\n"
     ]
    }
   ],
   "source": [
    "for j in range(len(words[0])):\n",
    "    ans = \" \".join(words[0][j])\n",
    "print(ans)\n",
    "for letters in words:\n",
    "    print(letters)\n",
    "\n",
    "       \n"
   ]
  },
  {
   "cell_type": "code",
   "execution_count": null,
   "id": "8756a906",
   "metadata": {},
   "outputs": [],
   "source": []
  },
  {
   "cell_type": "code",
   "execution_count": null,
   "id": "0084f9a4",
   "metadata": {},
   "outputs": [],
   "source": []
  }
 ],
 "metadata": {
  "kernelspec": {
   "display_name": "Python 3 (ipykernel)",
   "language": "python",
   "name": "python3"
  },
  "language_info": {
   "codemirror_mode": {
    "name": "ipython",
    "version": 3
   },
   "file_extension": ".py",
   "mimetype": "text/x-python",
   "name": "python",
   "nbconvert_exporter": "python",
   "pygments_lexer": "ipython3",
   "version": "3.11.5"
  }
 },
 "nbformat": 4,
 "nbformat_minor": 5
}
